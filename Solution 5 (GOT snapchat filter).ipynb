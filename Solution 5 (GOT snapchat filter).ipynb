{
 "cells": [
  {
   "cell_type": "code",
   "execution_count": 1,
   "metadata": {},
   "outputs": [],
   "source": [
    "import cv2\n",
    "import numpy as np"
   ]
  },
  {
   "cell_type": "code",
   "execution_count": 2,
   "metadata": {},
   "outputs": [],
   "source": [
    "image = cv2.imread(\"Jamie_Before.jpg\", -1)\n",
    "img = cv2.cvtColor(image, cv2.COLOR_BGR2GRAY)"
   ]
  },
  {
   "cell_type": "code",
   "execution_count": null,
   "metadata": {},
   "outputs": [],
   "source": []
  },
  {
   "cell_type": "code",
   "execution_count": 3,
   "metadata": {},
   "outputs": [],
   "source": [
    "nose_cascade = cv2.CascadeClassifier(\"Nose18x15.xml\")\n",
    "eyes_cascade = cv2.CascadeClassifier(\"frontalEyes35x16.xml\")"
   ]
  },
  {
   "cell_type": "code",
   "execution_count": 4,
   "metadata": {},
   "outputs": [],
   "source": [
    "nose = nose_cascade.detectMultiScale(img, 1.3, 5) "
   ]
  },
  {
   "cell_type": "code",
   "execution_count": 5,
   "metadata": {},
   "outputs": [
    {
     "data": {
      "text/plain": [
       "array([[312, 487, 107, 129]], dtype=int32)"
      ]
     },
     "execution_count": 5,
     "metadata": {},
     "output_type": "execute_result"
    }
   ],
   "source": [
    "nose"
   ]
  },
  {
   "cell_type": "code",
   "execution_count": 6,
   "metadata": {},
   "outputs": [],
   "source": [
    "\n",
    "x,y,w,h = nose[0]\n",
    "cv2.rectangle(img, (x,y), (x+h, y+w), (0,255,255), 2)\n",
    "\n",
    "cv2.imshow(\"nose\", img)\n",
    "cv2.waitKey(0)\n",
    "cv2.destroyAllWindows()"
   ]
  },
  {
   "cell_type": "code",
   "execution_count": null,
   "metadata": {},
   "outputs": [],
   "source": []
  },
  {
   "cell_type": "code",
   "execution_count": 7,
   "metadata": {},
   "outputs": [],
   "source": [
    "eyes = eyes_cascade.detectMultiScale(img, 1.3, 5)"
   ]
  },
  {
   "cell_type": "code",
   "execution_count": 8,
   "metadata": {},
   "outputs": [
    {
     "data": {
      "text/plain": [
       "array([[230, 360, 131, 286],\n",
       "       [191, 331, 170, 371]], dtype=int32)"
      ]
     },
     "execution_count": 8,
     "metadata": {},
     "output_type": "execute_result"
    }
   ],
   "source": [
    "eyes"
   ]
  },
  {
   "cell_type": "code",
   "execution_count": 9,
   "metadata": {},
   "outputs": [],
   "source": [
    "for eye in eyes:\n",
    "    x,y,w,h = eye\n",
    "    cv2.rectangle(img, (x,y), (x+h, y+w), (0,255,255), 2)\n",
    "    break\n",
    "\n",
    "cv2.imshow(\"eyes\", img)\n",
    "cv2.waitKey(0)\n",
    "cv2.destroyAllWindows()"
   ]
  },
  {
   "cell_type": "code",
   "execution_count": null,
   "metadata": {},
   "outputs": [],
   "source": []
  },
  {
   "cell_type": "code",
   "execution_count": 10,
   "metadata": {},
   "outputs": [],
   "source": [
    "glasses=cv2.imread(\"glasses.png\",-1) \n",
    "cv2.imshow(\"glasses\", glasses)\n",
    "cv2.waitKey(0)\n",
    "cv2.destroyAllWindows()"
   ]
  },
  {
   "cell_type": "code",
   "execution_count": 11,
   "metadata": {},
   "outputs": [],
   "source": [
    "mustache=cv2.imread(\"mustache.png\",-1)\n",
    "cv2.imshow(\"mustache\", mustache)\n",
    "cv2.waitKey(0)\n",
    "cv2.destroyAllWindows()"
   ]
  },
  {
   "cell_type": "code",
   "execution_count": null,
   "metadata": {},
   "outputs": [],
   "source": []
  },
  {
   "cell_type": "code",
   "execution_count": null,
   "metadata": {},
   "outputs": [],
   "source": []
  },
  {
   "cell_type": "code",
   "execution_count": null,
   "metadata": {},
   "outputs": [],
   "source": []
  },
  {
   "cell_type": "code",
   "execution_count": 12,
   "metadata": {},
   "outputs": [],
   "source": [
    "image = cv2.cvtColor(image, cv2.COLOR_BGR2BGRA)"
   ]
  },
  {
   "cell_type": "code",
   "execution_count": 13,
   "metadata": {},
   "outputs": [],
   "source": [
    "cv2.imshow(\"image\", image)\n",
    "cv2.waitKey(0)\n",
    "cv2.destroyAllWindows()"
   ]
  },
  {
   "cell_type": "code",
   "execution_count": 14,
   "metadata": {},
   "outputs": [
    {
     "data": {
      "text/plain": [
       "(1024, 733, 4)"
      ]
     },
     "execution_count": 14,
     "metadata": {},
     "output_type": "execute_result"
    }
   ],
   "source": [
    "image.shape"
   ]
  },
  {
   "cell_type": "code",
   "execution_count": 15,
   "metadata": {},
   "outputs": [
    {
     "data": {
      "text/plain": [
       "(320, 640, 4)"
      ]
     },
     "execution_count": 15,
     "metadata": {},
     "output_type": "execute_result"
    }
   ],
   "source": [
    "mustache.shape"
   ]
  },
  {
   "cell_type": "code",
   "execution_count": 16,
   "metadata": {},
   "outputs": [
    {
     "data": {
      "text/plain": [
       "(221, 483, 4)"
      ]
     },
     "execution_count": 16,
     "metadata": {},
     "output_type": "execute_result"
    }
   ],
   "source": [
    "glasses.shape"
   ]
  },
  {
   "cell_type": "code",
   "execution_count": null,
   "metadata": {},
   "outputs": [],
   "source": []
  },
  {
   "cell_type": "code",
   "execution_count": 17,
   "metadata": {},
   "outputs": [],
   "source": [
    "x,y,w,h = eyes[0]\n",
    "glasses = cv2.resize(glasses, (h,w))\n",
    "\n",
    "w,h,c = glasses.shape\n",
    "\n",
    "for i in range(0, w):\n",
    "    for j in range(0, h):\n",
    "        if glasses[i,j][3]!=0:\n",
    "            image[y+i,x+j]=glasses[i,j]\n",
    "            \n",
    "cv2.imshow(\"image\",image)\n",
    "cv2.waitKey(0)\n",
    "cv2.destroyAllWindows()"
   ]
  },
  {
   "cell_type": "code",
   "execution_count": null,
   "metadata": {},
   "outputs": [],
   "source": []
  },
  {
   "cell_type": "code",
   "execution_count": 18,
   "metadata": {},
   "outputs": [],
   "source": [
    "x,y,w,h = nose[0]\n",
    "img_section = img[y+(w//2+22):y+w, x:x+h]\n",
    "cv2.imshow(\"img_section\", img_section)\n",
    "cv2.waitKey(0)\n",
    "cv2.destroyAllWindows()"
   ]
  },
  {
   "cell_type": "code",
   "execution_count": 19,
   "metadata": {},
   "outputs": [],
   "source": [
    "W=(w//2+22)\n",
    "H=h\n",
    "mustache=cv2.resize(mustache, (H,W))\n",
    "cv2.imshow(\"mustache\", mustache)\n",
    "cv2.waitKey(0)\n",
    "cv2.destroyAllWindows()\n"
   ]
  },
  {
   "cell_type": "code",
   "execution_count": 20,
   "metadata": {},
   "outputs": [],
   "source": [
    "x,y,w,h=nose[0]\n",
    "W,H,c = mustache.shape\n",
    "y=y+(w//2-5)\n",
    "\n",
    "for i in range(0, W):\n",
    "    for j in range(0,H):\n",
    "        if mustache[i,j][3]!=0:\n",
    "            image[y+i,x+j]=mustache[i,j]\n",
    "            \n",
    "cv2.imshow(\"image\",image)\n",
    "cv2.waitKey(0)\n",
    "cv2.destroyAllWindows()"
   ]
  },
  {
   "cell_type": "code",
   "execution_count": 21,
   "metadata": {},
   "outputs": [],
   "source": [
    "cv2.imshow(\"image\",image)\n",
    "cv2.waitKey(0)\n",
    "cv2.destroyAllWindows()"
   ]
  },
  {
   "cell_type": "code",
   "execution_count": null,
   "metadata": {},
   "outputs": [],
   "source": []
  },
  {
   "cell_type": "code",
   "execution_count": 26,
   "metadata": {},
   "outputs": [
    {
     "name": "stdout",
     "output_type": "stream",
     "text": [
      "new Image pixel values:-\n",
      "[[[120 142 178 255]\n",
      "  [120 142 178 255]\n",
      "  [121 143 179 255]\n",
      "  ...\n",
      "  [ 84 148 202 255]\n",
      "  [ 83 147 201 255]\n",
      "  [ 83 147 201 255]]\n",
      "\n",
      " [[117 138 176 255]\n",
      "  [117 139 175 255]\n",
      "  [117 138 176 255]\n",
      "  ...\n",
      "  [ 86 150 204 255]\n",
      "  [ 85 149 203 255]\n",
      "  [ 85 149 203 255]]\n",
      "\n",
      " [[110 132 173 255]\n",
      "  [110 133 171 255]\n",
      "  [111 133 174 255]\n",
      "  ...\n",
      "  [ 87 153 206 255]\n",
      "  [ 87 153 206 255]\n",
      "  [ 86 152 205 255]]\n",
      "\n",
      " ...\n",
      "\n",
      " [[ 40  35  34 255]\n",
      "  [ 40  35  34 255]\n",
      "  [ 40  35  34 255]\n",
      "  ...\n",
      "  [ 51  45  46 255]\n",
      "  [ 47  41  42 255]\n",
      "  [ 43  37  38 255]]\n",
      "\n",
      " [[ 40  35  34 255]\n",
      "  [ 40  35  34 255]\n",
      "  [ 41  36  35 255]\n",
      "  ...\n",
      "  [ 50  44  45 255]\n",
      "  [ 46  40  41 255]\n",
      "  [ 41  35  36 255]]\n",
      "\n",
      " [[ 40  35  34 255]\n",
      "  [ 40  35  34 255]\n",
      "  [ 41  36  35 255]\n",
      "  ...\n",
      "  [ 50  44  45 255]\n",
      "  [ 45  39  40 255]\n",
      "  [ 40  34  35 255]]]\n"
     ]
    }
   ],
   "source": [
    "print(\"new Image pixel values:-\")\n",
    "print(image)"
   ]
  },
  {
   "cell_type": "code",
   "execution_count": 27,
   "metadata": {},
   "outputs": [],
   "source": [
    "import matplotlib.pyplot as plt"
   ]
  },
  {
   "cell_type": "code",
   "execution_count": 34,
   "metadata": {},
   "outputs": [
    {
     "data": {
      "text/plain": [
       "<matplotlib.image.AxesImage at 0x25935ecf5c0>"
      ]
     },
     "execution_count": 34,
     "metadata": {},
     "output_type": "execute_result"
    },
    {
     "data": {
      "image/png": "[encoded data removed]",
      "text/plain": [
       "<Figure size 432x288 with 1 Axes>"
      ]
     },
     "metadata": {},
     "output_type": "display_data"
    }
   ],
   "source": [
    "coloured = cv2.cvtColor(image, cv2.COLOR_RGBA2BGRA)\n",
    "plt.imshow(coloured)"
   ]
  },
  {
   "cell_type": "code",
   "execution_count": 35,
   "metadata": {},
   "outputs": [],
   "source": [
    "cv2.imshow(\"image\",image)\n",
    "cv2.waitKey(0)\n",
    "cv2.destroyAllWindows()"
   ]
  },
  {
   "cell_type": "code",
   "execution_count": null,
   "metadata": {},
   "outputs": [],
   "source": []
  }
 ],
 "metadata": {
  "kernelspec": {
   "display_name": "Python 3",
   "language": "python",
   "name": "python3"
  },
  "language_info": {
   "codemirror_mode": {
    "name": "ipython",
    "version": 3
   },
   "file_extension": ".py",
   "mimetype": "text/x-python",
   "name": "python",
   "nbconvert_exporter": "python",
   "pygments_lexer": "ipython3",
   "version": "3.7.3"
  }
 },
 "nbformat": 4,
 "nbformat_minor": 2
}
